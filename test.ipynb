{
 "cells": [
  {
   "cell_type": "code",
   "execution_count": 19,
   "id": "c94a0ee3",
   "metadata": {},
   "outputs": [
    {
     "name": "stdout",
     "output_type": "stream",
     "text": [
      "The autoreload extension is already loaded. To reload it, use:\n",
      "  %reload_ext autoreload\n"
     ]
    }
   ],
   "source": [
    "%load_ext autoreload\n",
    "%autoreload 2"
   ]
  },
  {
   "cell_type": "code",
   "execution_count": 20,
   "id": "e7a38b44",
   "metadata": {},
   "outputs": [],
   "source": [
    "import ctypes,time\n",
    "import numpy as np\n",
    "from ctypes import c_int,c_float,c_void_p,POINTER as P,c_size_t, byref\n",
    "from cuda import *\n",
    "from tensor import *"
   ]
  },
  {
   "cell_type": "code",
   "execution_count": 21,
   "id": "bf9cb72e",
   "metadata": {},
   "outputs": [],
   "source": [
    "# CUDA_OPS._ops"
   ]
  },
  {
   "cell_type": "code",
   "execution_count": 26,
   "id": "4356d640",
   "metadata": {},
   "outputs": [
    {
     "data": {
      "text/plain": [
       "(array([4.481689, 4.481689, 4.481689, 4.481689, 4.481689, 4.481689,\n",
       "        4.481689, 4.481689], dtype=float32),\n",
       " array([4.48168907, 4.48168907, 4.48168907, 4.48168907, 4.48168907,\n",
       "        4.48168907, 4.48168907, 4.48168907]))"
      ]
     },
     "execution_count": 26,
     "metadata": {},
     "output_type": "execute_result"
    }
   ],
   "source": [
    "shape = (8,)\n",
    "a = Tensor.from_numpy(np.ones(shape, dtype=np.int32) * 3).cuda()\n",
    "b = Tensor.from_numpy(np.ones(shape, dtype=np.int32) * 10).cuda()\n",
    "c = Tensor.empty(shape,device=\"cuda\",dtype=np.int32)\n",
    "\n",
    "(a.astype(np.float32)/2).exp().numpy(),(np.exp(a.numpy()/2))"
   ]
  }
 ],
 "metadata": {
  "kernelspec": {
   "display_name": "cudatorch",
   "language": "python",
   "name": "python3"
  },
  "language_info": {
   "codemirror_mode": {
    "name": "ipython",
    "version": 3
   },
   "file_extension": ".py",
   "mimetype": "text/x-python",
   "name": "python",
   "nbconvert_exporter": "python",
   "pygments_lexer": "ipython3",
   "version": "3.12.11"
  }
 },
 "nbformat": 4,
 "nbformat_minor": 5
}
