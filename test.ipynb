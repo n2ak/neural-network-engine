{
 "cells": [
  {
   "cell_type": "code",
   "execution_count": 55,
   "id": "c94a0ee3",
   "metadata": {},
   "outputs": [
    {
     "name": "stdout",
     "output_type": "stream",
     "text": [
      "The autoreload extension is already loaded. To reload it, use:\n",
      "  %reload_ext autoreload\n"
     ]
    }
   ],
   "source": [
    "%load_ext autoreload\n",
    "%autoreload 2"
   ]
  },
  {
   "cell_type": "code",
   "execution_count": 56,
   "id": "e7a38b44",
   "metadata": {},
   "outputs": [],
   "source": [
    "import numpy as np\n",
    "import os,time,torch\n",
    "\n",
    "from tensor import *\n",
    "from utils import *\n",
    "import nn \n",
    "from grad import Grad"
   ]
  },
  {
   "cell_type": "code",
   "execution_count": 57,
   "id": "80178f77",
   "metadata": {},
   "outputs": [],
   "source": [
    "torch.manual_seed(0)\n",
    "shape = (3, 7)\n",
    "a = torch.randn(*shape, requires_grad=True)\n",
    "b = torch.randn(*shape, requires_grad=True)\n",
    "\n",
    "ta = Tensor.from_numpy(a.detach().numpy()).requires_grad_(a.requires_grad)\n",
    "tb = Tensor.from_numpy(b.detach().numpy()).requires_grad_(b.requires_grad)"
   ]
  }
 ],
 "metadata": {
  "kernelspec": {
   "display_name": "cudatorch",
   "language": "python",
   "name": "python3"
  },
  "language_info": {
   "codemirror_mode": {
    "name": "ipython",
    "version": 3
   },
   "file_extension": ".py",
   "mimetype": "text/x-python",
   "name": "python",
   "nbconvert_exporter": "python",
   "pygments_lexer": "ipython3",
   "version": "3.12.11"
  }
 },
 "nbformat": 4,
 "nbformat_minor": 5
}
